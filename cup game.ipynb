{
 "cells": [
  {
   "cell_type": "code",
   "execution_count": 30,
   "metadata": {},
   "outputs": [],
   "source": [
    "from random import shuffle"
   ]
  },
  {
   "cell_type": "code",
   "execution_count": 31,
   "metadata": {},
   "outputs": [],
   "source": [
    "def my_shuffle(mylist):\n",
    "    shuffle(mylist)\n",
    "    return mylist"
   ]
  },
  {
   "cell_type": "code",
   "execution_count": 32,
   "metadata": {},
   "outputs": [],
   "source": [
    "def  player_guess():\n",
    "    guess=' '\n",
    "    while guess not in ['0','1','2']:\n",
    "        guess= input(\"Pick a number 0,1 and 2: \")\n",
    "    return int(guess)"
   ]
  },
  {
   "cell_type": "code",
   "execution_count": 33,
   "metadata": {},
   "outputs": [],
   "source": [
    "def check_guess(mylist,guess):\n",
    "    if mylist[guess]=='O':\n",
    "        print(\"Correct\")\n",
    "        print(mylist)\n",
    "    else:\n",
    "        print(\"worng\")\n",
    "        print(mylist)"
   ]
  },
  {
   "cell_type": "code",
   "execution_count": 35,
   "metadata": {},
   "outputs": [
    {
     "name": "stdout",
     "output_type": "stream",
     "text": [
      "Pick a number 0,1 and 2: 6\n",
      "Pick a number 0,1 and 2: 4\n",
      "Pick a number 0,1 and 2: 0\n",
      "worng\n",
      "[' ', 'O', ' ']\n"
     ]
    }
   ],
   "source": [
    "#intial list\n",
    "mylist=[' ','O',' ']\n",
    "#shuffle list\n",
    "mix_list=my_shuffle(mylist)\n",
    "#user guesss\n",
    "guess=player_guess()\n",
    "\n",
    "#check Guess\n",
    "\n",
    "check_guess(mix_list,guess)"
   ]
  }
 ],
 "metadata": {
  "kernelspec": {
   "display_name": "Python 3",
   "language": "python",
   "name": "python3"
  },
  "language_info": {
   "codemirror_mode": {
    "name": "ipython",
    "version": 3
   },
   "file_extension": ".py",
   "mimetype": "text/x-python",
   "name": "python",
   "nbconvert_exporter": "python",
   "pygments_lexer": "ipython3",
   "version": "3.7.4"
  }
 },
 "nbformat": 4,
 "nbformat_minor": 2
}
