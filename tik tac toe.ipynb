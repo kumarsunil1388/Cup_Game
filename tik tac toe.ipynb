{
 "cells": [
  {
   "cell_type": "code",
   "execution_count": 5,
   "metadata": {},
   "outputs": [
    {
     "name": "stdout",
     "output_type": "stream",
     "text": [
      "X|O|X\n",
      "O|X|O\n",
      "X|O|X\n"
     ]
    }
   ],
   "source": [
    "#First create a board\n",
    "from IPython.display import clear_output\n",
    "\n",
    "def display_board(board):\n",
    "    clear_output()\n",
    "    print(board[7]+'|'+board[8]+'|'+board[9])\n",
    "    print(board[4]+'|'+board[5]+'|'+board[6])\n",
    "    print(board[1]+'|'+board[2]+'|'+board[3])\n",
    "    \n",
    "test_board=['#','X','O','X','O','X','O','X','O','X']\n",
    "display_board(test_board)"
   ]
  },
  {
   "cell_type": "code",
   "execution_count": 23,
   "metadata": {},
   "outputs": [],
   "source": [
    "# choosing the player option\n",
    "def player_input():\n",
    "    marker=''\n",
    "    while marker !='X' and marker !='O':\n",
    "        marker =input('Player1: Choose X or O: ').upper()\n",
    "    if marker =='X':\n",
    "        return('X','O')\n",
    "    else:\n",
    "        return('O','X')\n"
   ]
  },
  {
   "cell_type": "code",
   "execution_count": 28,
   "metadata": {},
   "outputs": [],
   "source": [
    "#insert input in board\n",
    "def place_marker(board,marker,position):\n",
    "    board[position]=marker\n"
   ]
  },
  {
   "cell_type": "code",
   "execution_count": 37,
   "metadata": {},
   "outputs": [
    {
     "name": "stdout",
     "output_type": "stream",
     "text": [
      "X|O|X\n",
      "O|X|O\n",
      "$|O|X\n"
     ]
    }
   ],
   "source": [
    "test_board=['#','X','O','X','O','X','O','X','O','X']\n",
    "place_marker(test_board,'$',1)\n",
    "display_board(test_board)"
   ]
  },
  {
   "cell_type": "code",
   "execution_count": 39,
   "metadata": {},
   "outputs": [],
   "source": [
    "#check who won\n",
    "def win_check(board,mark):\n",
    "    \n",
    "    #All rows, and check\n",
    "    return ((board[1]==board[2]== board[3]== mark) or\n",
    "    (board[4]== board[5]== board[6]== mark) or\n",
    "    (board[7]== board[8]== board[9]== mark) or\n",
    "    (board[1]== board[4]== board[7]== mark) or\n",
    "    (board[2]== board[5]== board[8]== mark) or\n",
    "    (board[3]== board[6]== board[9]== mark) or\n",
    "    (board[3]== board[5]== board[7]== mark) or\n",
    "    (board[1]== board[5]== board[9]== mark) )"
   ]
  },
  {
   "cell_type": "code",
   "execution_count": 46,
   "metadata": {},
   "outputs": [],
   "source": [
    "# ramdomly decide which player goes first\n",
    "import random\n",
    "def choose_first():\n",
    "    flip = random.randint(0,1)\n",
    "    \n",
    "    if flip == 0:\n",
    "        return 'Player 1'\n",
    "    else:\n",
    "        return 'Player 2'\n",
    "    "
   ]
  },
  {
   "cell_type": "code",
   "execution_count": 70,
   "metadata": {},
   "outputs": [],
   "source": [
    "#check space in board or not\n",
    "def space_check(board,position):\n",
    "    \n",
    "    return board[position] == ' '"
   ]
  },
  {
   "cell_type": "code",
   "execution_count": 69,
   "metadata": {},
   "outputs": [],
   "source": [
    "#full board check \n",
    "def full_board_check(board):\n",
    "    \n",
    "    for i in range(1,10):\n",
    "        if space_check(board,i):\n",
    "            return False\n",
    "    return True"
   ]
  },
  {
   "cell_type": "code",
   "execution_count": 72,
   "metadata": {},
   "outputs": [],
   "source": [
    "# Ask player for next position if it is free\n",
    "\n",
    "def player_choice(board):\n",
    "    \n",
    "    position= 0\n",
    "    \n",
    "    while position not in [1,2,3,4,5,6,7,8,9] or not space_check(board,position):\n",
    "        position =int(input('Choose a position :(1-9)'))\n",
    "        return position\n",
    "    "
   ]
  },
  {
   "cell_type": "code",
   "execution_count": 73,
   "metadata": {},
   "outputs": [],
   "source": [
    "# ask player to play again\n",
    "\n",
    "def replay():\n",
    "    choice = input(\"Play anagin ? Enter Yes or No\")\n",
    "    \n",
    "    return choice == 'Yes'"
   ]
  },
  {
   "cell_type": "code",
   "execution_count": null,
   "metadata": {},
   "outputs": [
    {
     "name": "stdout",
     "output_type": "stream",
     "text": [
      "Welcome to Tic tac Toe\n"
     ]
    }
   ],
   "source": [
    "print('Welcome to Tic tac Toe')\n",
    "\n",
    "while True:\n",
    "    ##(board,whose firt,chose marker)\n",
    "    the_board=[' ']*10\n",
    "    \n",
    "    player1, player2 =player_input()\n",
    "    \n",
    "    turn = choose_first()\n",
    "    print(turn+ 'will go first')\n",
    "    \n",
    "    play_game=input('READY TO PLAY ? Y or N')\n",
    "    \n",
    "    if play_game=='Y':\n",
    "        game_on=True\n",
    "    else:\n",
    "        game_on=False\n",
    "    \n",
    "    while game_on:\n",
    "        \n",
    "        if turn == 'player 1' :\n",
    "            \n",
    "            display_board(the_board)\n",
    "            position = player_choice(the_board)\n",
    "            place_marker(the_board,player1,position)\n",
    "            \n",
    "            if win_check(the_board,player1):\n",
    "                display_board(the_board)\n",
    "                print(\"Player 1 won\")\n",
    "                game_on =False\n",
    "                \n",
    "            else:\n",
    "                if full_board_check(the_board):\n",
    "                    display(the_board)\n",
    "                    print(\"Tie game\")\n",
    "                    game_on =False\n",
    "                else:\n",
    "                    \n",
    "                    turn = 'player 2'\n",
    "        else:\n",
    "            \n",
    "            display_board(the_board)\n",
    "            position = player_choice(the_board)\n",
    "            place_marker(the_board,player2,position)\n",
    "            \n",
    "            if win_check(the_board,player2):\n",
    "                display_board(the_board)\n",
    "                print(\"Player 2 won\")\n",
    "                game_on =False\n",
    "                \n",
    "            else:\n",
    "                if full_board_check(the_board):\n",
    "                    display(the_board)\n",
    "                    print(\"Tie game\")\n",
    "                    game_on =False\n",
    "                else:\n",
    "                    \n",
    "                    turn = 'player 1'\n",
    "        \n",
    "    \n",
    "    \n",
    "    \n",
    "    if not replay():\n",
    "        break"
   ]
  }
 ],
 "metadata": {
  "kernelspec": {
   "display_name": "Python 3",
   "language": "python",
   "name": "python3"
  },
  "language_info": {
   "codemirror_mode": {
    "name": "ipython",
    "version": 3
   },
   "file_extension": ".py",
   "mimetype": "text/x-python",
   "name": "python",
   "nbconvert_exporter": "python",
   "pygments_lexer": "ipython3",
   "version": "3.7.4"
  }
 },
 "nbformat": 4,
 "nbformat_minor": 2
}
